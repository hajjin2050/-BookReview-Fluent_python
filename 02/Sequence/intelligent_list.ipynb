#지능형 리스트와 map()/ filter()비교


symbols = '+_)(*&^%$#@!'
beyond_ascii = [ord(s) for s in symbols if ord(s) > 127
]